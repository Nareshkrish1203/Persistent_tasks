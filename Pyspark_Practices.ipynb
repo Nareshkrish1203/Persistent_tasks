{
  "nbformat": 4,
  "nbformat_minor": 0,
  "metadata": {
    "colab": {
      "provenance": []
    },
    "kernelspec": {
      "name": "python3",
      "display_name": "Python 3"
    },
    "language_info": {
      "name": "python"
    }
  },
  "cells": [
    {
      "cell_type": "code",
      "execution_count": null,
      "metadata": {
        "colab": {
          "base_uri": "https://localhost:8080/"
        },
        "id": "ZZ6w98EplJoQ",
        "outputId": "2f2832ff-d6f2-44cf-80da-25b0a18b0f26"
      },
      "outputs": [
        {
          "output_type": "stream",
          "name": "stdout",
          "text": [
            "+----------+----+------+----------------+\n",
            "|     house|year|points|         student|\n",
            "+----------+----+------+----------------+\n",
            "|Gryffindor|   1|    80|    Harry Potter|\n",
            "| Slytherin|   1|    60|    Draco Malfoy|\n",
            "| Ravenclaw|   1|    45|   Luna Lovegood|\n",
            "|Hufflepuff|   1|    30|  Cedric Diggory|\n",
            "|Gryffindor|   2|    90|Hermione Granger|\n",
            "| Slytherin|   2|    70| Pansy Parkinson|\n",
            "| Ravenclaw|   2|    55|       Cho Chang|\n",
            "|Hufflepuff|   2|    65|   Hannah Abbott|\n",
            "|Gryffindor|   3|    20|     Ron Weasley|\n",
            "| Slytherin|   3|    85|   Blaise Zabini|\n",
            "+----------+----+------+----------------+\n",
            "\n"
          ]
        }
      ],
      "source": [
        "from pyspark.sql import SparkSession\n",
        "\n",
        "spark = SparkSession.builder.appName(\"problems\").getOrCreate()\n",
        "\n",
        "data = [\n",
        "    (\"Gryffindor\", 1, 80, \"Harry Potter\"),\n",
        "    (\"Slytherin\", 1, 60, \"Draco Malfoy\"),\n",
        "    (\"Ravenclaw\", 1, 45, \"Luna Lovegood\"),\n",
        "    (\"Hufflepuff\", 1, 30, \"Cedric Diggory\"),\n",
        "    (\"Gryffindor\", 2, 90, \"Hermione Granger\"),\n",
        "    (\"Slytherin\", 2, 70, \"Pansy Parkinson\"),\n",
        "    (\"Ravenclaw\", 2, 55, \"Cho Chang\"),\n",
        "    (\"Hufflepuff\", 2, 65, \"Hannah Abbott\"),\n",
        "    (\"Gryffindor\", 3, 20, \"Ron Weasley\"),\n",
        "    (\"Slytherin\", 3, 85, \"Blaise Zabini\")\n",
        "]\n",
        "\n",
        "columns = [\"house\", \"year\", \"points\", \"student\"]\n",
        "df = spark.createDataFrame(data, columns)\n",
        "df.show()"
      ]
    },
    {
      "cell_type": "code",
      "source": [
        "from pyspark.sql import functions as F\n",
        "\n",
        "selected_df = df.select(\"house\", \"year\", \"points\")\n",
        "filtered_df = selected_df.filter(F.col(\"points\") > 50)\n",
        "grouped_df = filtered_df.groupBy(\"house\", \"year\").agg(F.sum(\"points\").alias(\"total_points\"))\n",
        "result_df = grouped_df.orderBy(\"year\", F.desc(\"total_points\"))\n",
        "result_df.show()\n"
      ],
      "metadata": {
        "colab": {
          "base_uri": "https://localhost:8080/"
        },
        "id": "q67CfjhVlM9z",
        "outputId": "cb851c8f-6435-4e93-a2db-72d02bab9577"
      },
      "execution_count": null,
      "outputs": [
        {
          "output_type": "stream",
          "name": "stdout",
          "text": [
            "+----------+----+------------+\n",
            "|     house|year|total_points|\n",
            "+----------+----+------------+\n",
            "|Gryffindor|   1|          80|\n",
            "| Slytherin|   1|          60|\n",
            "|Gryffindor|   2|          90|\n",
            "| Slytherin|   2|          70|\n",
            "|Hufflepuff|   2|          65|\n",
            "| Ravenclaw|   2|          55|\n",
            "| Slytherin|   3|          85|\n",
            "+----------+----+------------+\n",
            "\n"
          ]
        }
      ]
    },
    {
      "cell_type": "code",
      "source": [
        "data = [\n",
        "    (\"Aragorn\", \"Human\", 10, 2, \"Helms Deep\"),\n",
        "    (\"Legolas\", \"Elf\", 15, 0, \"Helms Deep\"),\n",
        "    (\"Gimli\", \"Dwarf\", 8, 3, \"Helms Deep\"),\n",
        "    (\"Frodo\", \"Hobbit\", 2, 1, \"Moria\"),\n",
        "    (\"Sam\", \"Hobbit\", 4, 2, \"Moria\"),\n",
        "    (\"Gandalf\", \"Wizard\", 12, 1, \"Moria\"),\n",
        "    (\"Boromir\", \"Human\", 7, 4, \"Amon Hen\"),\n",
        "    (\"Legolas\", \"Elf\", 20, 0, \"Amon Hen\"),\n",
        "    (\"Aragorn\", \"Human\", 9, 2, \"Amon Hen\")\n",
        "]\n",
        "\n",
        "columns = [\"name\", \"race\", \"enemies_defeated\", \"injuries\", \"battle\"]\n",
        "df = spark.createDataFrame(data, columns)\n",
        "df.show()\n"
      ],
      "metadata": {
        "colab": {
          "base_uri": "https://localhost:8080/"
        },
        "id": "H4esoJYBlRgz",
        "outputId": "0c518ca1-728d-4580-d726-fd9c002399d3"
      },
      "execution_count": null,
      "outputs": [
        {
          "output_type": "stream",
          "name": "stdout",
          "text": [
            "+-------+------+----------------+--------+----------+\n",
            "|   name|  race|enemies_defeated|injuries|    battle|\n",
            "+-------+------+----------------+--------+----------+\n",
            "|Aragorn| Human|              10|       2|Helms Deep|\n",
            "|Legolas|   Elf|              15|       0|Helms Deep|\n",
            "|  Gimli| Dwarf|               8|       3|Helms Deep|\n",
            "|  Frodo|Hobbit|               2|       1|     Moria|\n",
            "|    Sam|Hobbit|               4|       2|     Moria|\n",
            "|Gandalf|Wizard|              12|       1|     Moria|\n",
            "|Boromir| Human|               7|       4|  Amon Hen|\n",
            "|Legolas|   Elf|              20|       0|  Amon Hen|\n",
            "|Aragorn| Human|               9|       2|  Amon Hen|\n",
            "+-------+------+----------------+--------+----------+\n",
            "\n"
          ]
        }
      ]
    },
    {
      "cell_type": "code",
      "source": [
        "from pyspark.sql import functions as F\n",
        "\n",
        "filtered_df = df.select(\"name\", \"race\", \"enemies_defeated\") .filter(F.col(\"enemies_defeated\") > 5)\n",
        "grouped_df = filtered_df.groupBy(\"race\") .agg(F.avg(\"enemies_defeated\").alias(\"avg_enemies_defeated\"))\n",
        "result_df = grouped_df.orderBy(F.desc(\"avg_enemies_defeated\"))\n",
        "result_df.show()"
      ],
      "metadata": {
        "colab": {
          "base_uri": "https://localhost:8080/"
        },
        "id": "Yk59Qr7YlneB",
        "outputId": "39158ca8-36bf-4057-fe33-624b0dc23347"
      },
      "execution_count": null,
      "outputs": [
        {
          "output_type": "stream",
          "name": "stdout",
          "text": [
            "+------+--------------------+\n",
            "|  race|avg_enemies_defeated|\n",
            "+------+--------------------+\n",
            "|   Elf|                17.5|\n",
            "|Wizard|                12.0|\n",
            "| Human|   8.666666666666666|\n",
            "| Dwarf|                 8.0|\n",
            "+------+--------------------+\n",
            "\n"
          ]
        }
      ]
    },
    {
      "cell_type": "code",
      "source": [
        "data = [\n",
        "    (\"SUB-01\", \"Pacific Strike\", 5, \"Success\"),\n",
        "    (\"SUB-02\", \"Atlantic Surge\", 2, \"Failure\"),\n",
        "    (\"SUB-01\", \"Arctic Blitz\", 4, \"Success\"),\n",
        "    (\"SUB-03\", \"Indian Ocean\", 6, \"Success\"),\n",
        "    (\"SUB-02\", \"Pacific Strike\", 3, \"Success\"),\n",
        "    (\"SUB-01\", \"Coral Sea\", 7, \"Success\"),\n",
        "    (\"SUB-03\", \"Arctic Blitz\", 1, \"Failure\"),\n",
        "    (\"SUB-02\", \"Bering Strait\", 5, \"Success\")\n",
        "]\n",
        "\n",
        "columns = [\"submarine_id\", \"mission_name\", \"warheads_launched\", \"status\"]\n",
        "df = spark.createDataFrame(data, columns)\n",
        "df.show()"
      ],
      "metadata": {
        "colab": {
          "base_uri": "https://localhost:8080/"
        },
        "id": "TojbPl8Glxkz",
        "outputId": "8a38f512-041b-4417-bb95-20a4648b04df"
      },
      "execution_count": null,
      "outputs": [
        {
          "output_type": "stream",
          "name": "stdout",
          "text": [
            "+------------+--------------+-----------------+-------+\n",
            "|submarine_id|  mission_name|warheads_launched| status|\n",
            "+------------+--------------+-----------------+-------+\n",
            "|      SUB-01|Pacific Strike|                5|Success|\n",
            "|      SUB-02|Atlantic Surge|                2|Failure|\n",
            "|      SUB-01|  Arctic Blitz|                4|Success|\n",
            "|      SUB-03|  Indian Ocean|                6|Success|\n",
            "|      SUB-02|Pacific Strike|                3|Success|\n",
            "|      SUB-01|     Coral Sea|                7|Success|\n",
            "|      SUB-03|  Arctic Blitz|                1|Failure|\n",
            "|      SUB-02| Bering Strait|                5|Success|\n",
            "+------------+--------------+-----------------+-------+\n",
            "\n"
          ]
        }
      ]
    },
    {
      "cell_type": "code",
      "source": [
        "from pyspark.sql import functions as F\n",
        "\n",
        "filtered_df = df.select(\"submarine_id\", \"mission_name\", \"warheads_launched\") .filter(F.col(\"warheads_launched\") > 3)\n",
        "grouped_df = filtered_df.groupBy(\"submarine_id\") .agg(F.count(\"mission_name\").alias(\"total_missions\"),\n",
        "         F.sum(\"warheads_launched\").alias(\"total_warheads_launched\"))\n",
        "result_df = grouped_df.orderBy(F.desc(\"total_warheads_launched\"))\n",
        "result_df.show()\n"
      ],
      "metadata": {
        "colab": {
          "base_uri": "https://localhost:8080/"
        },
        "id": "yMoqsME-l1lW",
        "outputId": "30114fd9-651d-4689-9a8c-9f20c023a042"
      },
      "execution_count": null,
      "outputs": [
        {
          "output_type": "stream",
          "name": "stdout",
          "text": [
            "+------------+--------------+-----------------------+\n",
            "|submarine_id|total_missions|total_warheads_launched|\n",
            "+------------+--------------+-----------------------+\n",
            "|      SUB-01|             3|                     16|\n",
            "|      SUB-03|             1|                      6|\n",
            "|      SUB-02|             1|                      5|\n",
            "+------------+--------------+-----------------------+\n",
            "\n"
          ]
        }
      ]
    },
    {
      "cell_type": "code",
      "source": [],
      "metadata": {
        "id": "dMJna3tMmBfs"
      },
      "execution_count": null,
      "outputs": []
    }
  ]
}